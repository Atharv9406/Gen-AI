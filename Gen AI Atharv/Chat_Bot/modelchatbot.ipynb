!pip install -q sentence-transformers scikit-learn joblib pandas

import pandas as pd
from sentence_transformers import SentenceTransformer
import numpy as np
from sklearn.neighbors import NearestNeighbors
import joblib
import os


data = [
    {"id": 1, "title": "What is overfitting?", "text": "Overfitting happens when a model learns the noise in the training data..."},
    {"id": 2, "title": "Gradient Descent", "text": "Gradient descent is an optimization algorithm used to minimize the loss function..."},
    {"id": 3, "title": "What is a confusion matrix?", "text": "A confusion matrix is a table used to describe the performance of a classification model..."},
    {"id": 4, "title": "What is cross validation?", "text": "Cross validation is a technique to evaluate ML models on a limited data sample by splitting it into folds..."},
]

df = pd.DataFrame(data)

model_name = "all-MiniLM-L6-v2"
model = SentenceTransformer(model_name)

texts = df["text"].tolist()
embeddings = model.encode(texts, show_progress_bar=True, convert_to_numpy=True)

nn = NearestNeighbors(n_neighbors=5, metric='cosine')
nn.fit(embeddings)

store = {
    "model_name": model_name,
    "docs": df.to_dict(orient="records"),
    "embeddings": embeddings,
    "nn": nn
}

output_file = "chatbot_store.pkl"
joblib.dump(store, output_file)
print("Saved:", output_file)

try:
    from google.colab import files
    files.download(output_file)
except:
    print("If you're not in Colab, find the file in the working dir.")
